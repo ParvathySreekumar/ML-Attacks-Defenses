{
 "cells": [
  {
   "cell_type": "code",
   "execution_count": 1,
   "metadata": {},
   "outputs": [],
   "source": [
    "import nbimporter\n",
    "from nbimporter import NotebookLoader\n",
    "\n",
    "path = 'C:\\\\Users\\\\parva\\\\Desktop\\\\mldlnew\\\\training_MNIST.ipynb'\n",
    "loader = NotebookLoader(path)\n",
    "loader.load_module('training_MNIST')\n",
    "from training_MNIST import *\n"
   ]
  },
  {
   "cell_type": "code",
   "execution_count": 2,
   "metadata": {},
   "outputs": [],
   "source": [
    "# Importing all the libraries\n",
    "\n",
    "import tensorflow as tf\n",
    "from tensorflow.keras.models import Sequential\n",
    "from tensorflow.keras.layers import Dense, Flatten\n",
    "from tensorflow.keras.datasets import mnist\n",
    "from tensorflow.keras.utils import to_categorical\n",
    "from tensorflow.keras.layers import BatchNormalization\n",
    "import os\n",
    "import struct\n",
    "import numpy as np\n",
    "import training_MNIST"
   ]
  },
  {
   "cell_type": "code",
   "execution_count": 3,
   "metadata": {},
   "outputs": [],
   "source": [
    "# Function to load MNIST data from ubyte files\n",
    "def load_mnist(path, kind='train'):\n",
    "    labels_path = os.path.join(path, f'{kind}-labels-idx1-ubyte')\n",
    "    images_path = os.path.join(path, f'{kind}-images-idx3-ubyte')\n",
    "    with open(labels_path, 'rb') as lbpath:\n",
    "        magic, n = struct.unpack('>II', lbpath.read(8))\n",
    "        labels = np.fromfile(lbpath, dtype=np.uint8)\n",
    "    with open(images_path, 'rb') as imgpath:\n",
    "        magic, num, rows, cols = struct.unpack('>IIII', imgpath.read(16))\n",
    "        images = np.fromfile(imgpath, dtype=np.uint8).reshape(len(labels), 28, 28)\n",
    "    return images, labels\n",
    "\n",
    "# Load and preprocess the dataset\n",
    "path = 'C:\\\\Users\\\\parva\\\\Desktop\\\\mldlnew\\\\MNIST'\n",
    "x_train, y_train = load_mnist(path, kind='train')\n",
    "x_test, y_test = load_mnist(path, kind='t10k')\n",
    "x_train, x_test = x_train / 255.0, x_test / 255.0\n",
    "y_train = to_categorical(y_train)\n",
    "y_test = to_categorical(y_test)"
   ]
  },
  {
   "cell_type": "code",
   "execution_count": 4,
   "metadata": {},
   "outputs": [
    {
     "name": "stderr",
     "output_type": "stream",
     "text": [
      "c:\\Users\\parva\\AppData\\Local\\Programs\\Python\\Python39\\lib\\site-packages\\keras\\src\\layers\\reshaping\\flatten.py:37: UserWarning: Do not pass an `input_shape`/`input_dim` argument to a layer. When using Sequential models, prefer using an `Input(shape)` object as the first layer in the model instead.\n",
      "  super().__init__(**kwargs)\n"
     ]
    }
   ],
   "source": [
    "# Build the DNN model\n",
    "model = Sequential([\n",
    "    Flatten(input_shape=(28, 28)),\n",
    "    Dense(256, activation='relu'),  # Increased to 256 neurons\n",
    "    BatchNormalization(),  # Add batch normalization\n",
    "    Dense(10, activation='softmax')\n",
    "])\n",
    "\n",
    "# Compile the model\n",
    "model.compile(optimizer='adam',\n",
    "              loss='categorical_crossentropy',\n",
    "              metrics=['accuracy'])"
   ]
  },
  {
   "cell_type": "code",
   "execution_count": 5,
   "metadata": {},
   "outputs": [
    {
     "name": "stdout",
     "output_type": "stream",
     "text": [
      "Epoch 1/5\n",
      "\u001b[1m1875/1875\u001b[0m \u001b[32m━━━━━━━━━━━━━━━━━━━━\u001b[0m\u001b[37m\u001b[0m \u001b[1m5s\u001b[0m 2ms/step - accuracy: 0.9020 - loss: 0.3263 - val_accuracy: 0.9589 - val_loss: 0.1284\n",
      "Epoch 2/5\n",
      "\u001b[1m1875/1875\u001b[0m \u001b[32m━━━━━━━━━━━━━━━━━━━━\u001b[0m\u001b[37m\u001b[0m \u001b[1m5s\u001b[0m 2ms/step - accuracy: 0.9695 - loss: 0.1031 - val_accuracy: 0.9722 - val_loss: 0.0949\n",
      "Epoch 3/5\n",
      "\u001b[1m1875/1875\u001b[0m \u001b[32m━━━━━━━━━━━━━━━━━━━━\u001b[0m\u001b[37m\u001b[0m \u001b[1m5s\u001b[0m 3ms/step - accuracy: 0.9766 - loss: 0.0762 - val_accuracy: 0.9757 - val_loss: 0.0763\n",
      "Epoch 4/5\n",
      "\u001b[1m1875/1875\u001b[0m \u001b[32m━━━━━━━━━━━━━━━━━━━━\u001b[0m\u001b[37m\u001b[0m \u001b[1m4s\u001b[0m 2ms/step - accuracy: 0.9793 - loss: 0.0635 - val_accuracy: 0.9742 - val_loss: 0.0809\n",
      "Epoch 5/5\n",
      "\u001b[1m1875/1875\u001b[0m \u001b[32m━━━━━━━━━━━━━━━━━━━━\u001b[0m\u001b[37m\u001b[0m \u001b[1m4s\u001b[0m 2ms/step - accuracy: 0.9840 - loss: 0.0510 - val_accuracy: 0.9771 - val_loss: 0.0781\n",
      "\u001b[1m1875/1875\u001b[0m \u001b[32m━━━━━━━━━━━━━━━━━━━━\u001b[0m\u001b[37m\u001b[0m \u001b[1m2s\u001b[0m 1ms/step - accuracy: 0.9903 - loss: 0.0298\n",
      "Training Accuracy: 0.9901999831199646\n",
      "\u001b[1m313/313\u001b[0m \u001b[32m━━━━━━━━━━━━━━━━━━━━\u001b[0m\u001b[37m\u001b[0m \u001b[1m0s\u001b[0m 1ms/step - accuracy: 0.9731 - loss: 0.0951\n",
      "Testing Accuracy: 0.9771000146865845\n"
     ]
    }
   ],
   "source": [
    "import matplotlib.pyplot as plt\n",
    "\n",
    "# Train the model and store the training history\n",
    "history = model.fit(x_train, y_train, epochs=5, batch_size=32, validation_data=(x_test, y_test))\n",
    "\n",
    "# Evaluate the model on the training data\n",
    "_, training_accuracy = model.evaluate(x_train, y_train)\n",
    "print(f'Training Accuracy: {training_accuracy}')\n",
    "\n",
    "# Evaluate the model on the testing data\n",
    "_, testing_accuracy = model.evaluate(x_test, y_test)\n",
    "print(f'Testing Accuracy: {testing_accuracy}')"
   ]
  },
  {
   "cell_type": "code",
   "execution_count": 6,
   "metadata": {},
   "outputs": [
    {
     "name": "stdout",
     "output_type": "stream",
     "text": [
      "\u001b[1m313/313\u001b[0m \u001b[32m━━━━━━━━━━━━━━━━━━━━\u001b[0m\u001b[37m\u001b[0m \u001b[1m0s\u001b[0m 1ms/step - accuracy: 0.2879 - loss: 3.3392\n",
      "Adversarial Testing Accuracy: 0.3422999978065491\n",
      "\u001b[1m313/313\u001b[0m \u001b[32m━━━━━━━━━━━━━━━━━━━━\u001b[0m\u001b[37m\u001b[0m \u001b[1m0s\u001b[0m 916us/step\n",
      "Success rate of the PGD attack on the subset: 0.6577\n",
      "\u001b[1m313/313\u001b[0m \u001b[32m━━━━━━━━━━━━━━━━━━━━\u001b[0m\u001b[37m\u001b[0m \u001b[1m0s\u001b[0m 1ms/step - accuracy: 0.3050 - loss: 3.1257\n",
      "Adversarial Testing Accuracy: 0.35830000042915344\n",
      "\u001b[1m313/313\u001b[0m \u001b[32m━━━━━━━━━━━━━━━━━━━━\u001b[0m\u001b[37m\u001b[0m \u001b[1m0s\u001b[0m 864us/step\n",
      "Success rate of the FGSM attack on the subset: 0.6417\n",
      "\u001b[1m313/313\u001b[0m \u001b[32m━━━━━━━━━━━━━━━━━━━━\u001b[0m\u001b[37m\u001b[0m \u001b[1m0s\u001b[0m 1ms/step - accuracy: 0.3358 - loss: 4.9707\n",
      "Adversarial Testing Accuracy: 0.382999986410141\n",
      "\u001b[1m313/313\u001b[0m \u001b[32m━━━━━━━━━━━━━━━━━━━━\u001b[0m\u001b[37m\u001b[0m \u001b[1m0s\u001b[0m 1ms/step\n",
      "Success rate of the FGSM attack on the subset: 0.617\n",
      "\u001b[1m313/313\u001b[0m \u001b[32m━━━━━━━━━━━━━━━━━━━━\u001b[0m\u001b[37m\u001b[0m \u001b[1m1s\u001b[0m 2ms/step - accuracy: 0.3428 - loss: 47.3369\n",
      "JSMA Attack - Success Rate: 60.85000038146973 %\n"
     ]
    }
   ],
   "source": [
    "#-------------------- PGD Attack -------------------\n",
    "epsilon = 0.06\n",
    "alpha = 0.02\n",
    "num_iter = 200\n",
    "\n",
    "x_test_pgd = pgd_attack(model, x_test, y_test, epsilon, alpha, num_iter)\n",
    "_, adv_testing_accuracy = model.evaluate(x_test_pgd, y_test)\n",
    "print(f'Adversarial Testing Accuracy: {adv_testing_accuracy}')\n",
    "\n",
    "y_pred_adv_subset = np.argmax(model.predict(x_test_pgd), axis=1)\n",
    "success_rate_subset = np.mean(y_pred_adv_subset != np.argmax(y_test, axis=1))\n",
    "print(\"Success rate of the PGD attack on the subset:\", success_rate_subset)\n",
    "\n",
    "#-------------------- BIM Attack  -------------------\n",
    "\n",
    "epsilon = 0.06  \n",
    "epsilon_iter = 0.05  \n",
    "num_steps = 20  \n",
    "x_test_adv = bim_attack(model, x_test, y_test, epsilon, epsilon_iter, num_steps)\n",
    "\n",
    "_, adv_testing_accuracy = model.evaluate(x_test_adv, y_test)\n",
    "print(f'Adversarial Testing Accuracy: {adv_testing_accuracy}')\n",
    "\n",
    "y_pred_adv_subset = np.argmax(model.predict(x_test_adv), axis=1)\n",
    "success_rate_subset = np.mean(y_pred_adv_subset != np.argmax(y_test, axis=1))\n",
    "print(\"Success rate of the FGSM attack on the subset:\", success_rate_subset)\n",
    "\n",
    "#--------------------- C & W Attack -------------------\n",
    "\n",
    "target_class = 0  # Target class for misclassification\n",
    "x_adv = cw_attack(model, x_test, y_test, target_class)\n",
    "\n",
    "# Evaluate the adversarially attacked model\n",
    "_, adv_testing_accuracy = model.evaluate(x_adv, y_test)\n",
    "print(f'Adversarial Testing Accuracy: {adv_testing_accuracy}')\n",
    "\n",
    "# Evaluate the success rate of the attack on the subset\n",
    "y_pred_adv_subset = np.argmax(model.predict(x_adv), axis=1)\n",
    "success_rate_subset = np.mean(y_pred_adv_subset != np.argmax(y_test, axis=1))\n",
    "print(\"Success rate of the FGSM attack on the subset:\", success_rate_subset)\n",
    "\n",
    "#--------------------- JSMA Attack  -------------------\n",
    "\n",
    "# JSMA attack parameters\n",
    "epsilon_jsma = 0.5\n",
    "num_iterations_jsma = 150\n",
    "theta_jsma = 0.5\n",
    "\n",
    "# Generate adversarial examples for the full test data\n",
    "x_adv_jsma_all = jsma_attack(model, x_test, y_test, epsilon=epsilon_jsma, num_iterations=num_iterations_jsma, theta=theta_jsma)\n",
    "\n",
    "# Evaluate the model on the adversarial examples\n",
    "adv_loss_jsma, adv_acc_jsma = model.evaluate(x_adv_jsma_all, y_test)\n",
    "\n",
    "# Calculate the success rate of the attack\n",
    "success_rate_jsma = (1 - adv_acc_jsma) * 100  # Misclassification rate\n",
    "print(\"JSMA Attack - Success Rate:\", success_rate_jsma, \"%\")\n"
   ]
  },
  {
   "cell_type": "code",
   "execution_count": 7,
   "metadata": {},
   "outputs": [
    {
     "name": "stdout",
     "output_type": "stream",
     "text": [
      "Epoch 1/5\n",
      "\u001b[1m1875/1875\u001b[0m \u001b[32m━━━━━━━━━━━━━━━━━━━━\u001b[0m\u001b[37m\u001b[0m \u001b[1m15s\u001b[0m 6ms/step - accuracy: 0.8314 - loss: 0.6660\n",
      "Epoch 2/5\n",
      "\u001b[1m1875/1875\u001b[0m \u001b[32m━━━━━━━━━━━━━━━━━━━━\u001b[0m\u001b[37m\u001b[0m \u001b[1m13s\u001b[0m 7ms/step - accuracy: 0.9420 - loss: 0.2043\n",
      "Epoch 3/5\n",
      "\u001b[1m1875/1875\u001b[0m \u001b[32m━━━━━━━━━━━━━━━━━━━━\u001b[0m\u001b[37m\u001b[0m \u001b[1m18s\u001b[0m 10ms/step - accuracy: 0.9610 - loss: 0.1398\n",
      "Epoch 4/5\n",
      "\u001b[1m1875/1875\u001b[0m \u001b[32m━━━━━━━━━━━━━━━━━━━━\u001b[0m\u001b[37m\u001b[0m \u001b[1m17s\u001b[0m 9ms/step - accuracy: 0.9713 - loss: 0.1023\n",
      "Epoch 5/5\n",
      "\u001b[1m1875/1875\u001b[0m \u001b[32m━━━━━━━━━━━━━━━━━━━━\u001b[0m\u001b[37m\u001b[0m \u001b[1m16s\u001b[0m 7ms/step - accuracy: 0.9770 - loss: 0.0825\n",
      "\u001b[1m1875/1875\u001b[0m \u001b[32m━━━━━━━━━━━━━━━━━━━━\u001b[0m\u001b[37m\u001b[0m \u001b[1m5s\u001b[0m 3ms/step\n",
      "Epoch 1/5\n",
      "\u001b[1m1875/1875\u001b[0m \u001b[32m━━━━━━━━━━━━━━━━━━━━\u001b[0m\u001b[37m\u001b[0m \u001b[1m11s\u001b[0m 5ms/step - accuracy: 0.9077 - loss: 0.3560\n",
      "Epoch 2/5\n",
      "\u001b[1m1875/1875\u001b[0m \u001b[32m━━━━━━━━━━━━━━━━━━━━\u001b[0m\u001b[37m\u001b[0m \u001b[1m11s\u001b[0m 6ms/step - accuracy: 0.9854 - loss: 0.1215\n",
      "Epoch 3/5\n",
      "\u001b[1m1875/1875\u001b[0m \u001b[32m━━━━━━━━━━━━━━━━━━━━\u001b[0m\u001b[37m\u001b[0m \u001b[1m16s\u001b[0m 8ms/step - accuracy: 0.9898 - loss: 0.1154\n",
      "Epoch 4/5\n",
      "\u001b[1m1875/1875\u001b[0m \u001b[32m━━━━━━━━━━━━━━━━━━━━\u001b[0m\u001b[37m\u001b[0m \u001b[1m14s\u001b[0m 7ms/step - accuracy: 0.9904 - loss: 0.1151\n",
      "Epoch 5/5\n",
      "\u001b[1m1875/1875\u001b[0m \u001b[32m━━━━━━━━━━━━━━━━━━━━\u001b[0m\u001b[37m\u001b[0m \u001b[1m18s\u001b[0m 6ms/step - accuracy: 0.9916 - loss: 0.1135\n"
     ]
    },
    {
     "data": {
      "text/plain": [
       "<keras.src.callbacks.history.History at 0x1ceb5606c70>"
      ]
     },
     "execution_count": 7,
     "metadata": {},
     "output_type": "execute_result"
    }
   ],
   "source": [
    "# Train the first model with high temperature\n",
    "T = 10\n",
    "model_with_temp = Sequential([\n",
    "    Flatten(input_shape=(28, 28)),\n",
    "    Dense(256, activation='relu'),\n",
    "    Dense(10, activation=lambda x: tf.nn.softmax(x / T))\n",
    "])\n",
    "model_with_temp.compile(optimizer='adam', loss='categorical_crossentropy', metrics=['accuracy'])\n",
    "model_with_temp.fit(x_train, y_train, epochs=5, batch_size=32)\n",
    "\n",
    "# Use the first model to label the training set with soft labels\n",
    "soft_labels = model_with_temp.predict(x_train)\n",
    "\n",
    "# Train a second model (distilled model) with soft labels\n",
    "distilled_model = Sequential([\n",
    "    Flatten(input_shape=(28, 28)),\n",
    "    Dense(256, activation='relu'),\n",
    "    Dense(10, activation='softmax')\n",
    "])\n",
    "distilled_model.compile(optimizer='adam', loss='categorical_crossentropy', metrics=['accuracy'])\n",
    "distilled_model.fit(x_train, soft_labels, epochs=5, batch_size=32)"
   ]
  },
  {
   "cell_type": "code",
   "execution_count": 8,
   "metadata": {},
   "outputs": [
    {
     "name": "stdout",
     "output_type": "stream",
     "text": [
      "\u001b[1m313/313\u001b[0m \u001b[32m━━━━━━━━━━━━━━━━━━━━\u001b[0m\u001b[37m\u001b[0m \u001b[1m0s\u001b[0m 1ms/step - accuracy: 0.4261 - loss: 1.7407\n",
      "Adversarial Testing Accuracy: 0.47920000553131104\n",
      "\u001b[1m313/313\u001b[0m \u001b[32m━━━━━━━━━━━━━━━━━━━━\u001b[0m\u001b[37m\u001b[0m \u001b[1m0s\u001b[0m 785us/step\n",
      "Success rate of the PGD attack on the subset: 52.080000000000005\n",
      "\u001b[1m313/313\u001b[0m \u001b[32m━━━━━━━━━━━━━━━━━━━━\u001b[0m\u001b[37m\u001b[0m \u001b[1m0s\u001b[0m 1ms/step - accuracy: 0.4262 - loss: 1.7336\n",
      "Adversarial Testing Accuracy: 0.47999998927116394\n",
      "\u001b[1m313/313\u001b[0m \u001b[32m━━━━━━━━━━━━━━━━━━━━\u001b[0m\u001b[37m\u001b[0m \u001b[1m1s\u001b[0m 2ms/step\n",
      "Success rate of the FGSM attack on the subset: 52.0\n",
      "\u001b[1m313/313\u001b[0m \u001b[32m━━━━━━━━━━━━━━━━━━━━\u001b[0m\u001b[37m\u001b[0m \u001b[1m0s\u001b[0m 1ms/step - accuracy: 0.1332 - loss: 4.0775\n",
      "Adversarial Testing Accuracy: 0.16990000009536743\n",
      "\u001b[1m313/313\u001b[0m \u001b[32m━━━━━━━━━━━━━━━━━━━━\u001b[0m\u001b[37m\u001b[0m \u001b[1m0s\u001b[0m 1ms/step\n",
      "Success rate of the FGSM attack on the subset: 83.00999999999999\n",
      "\u001b[1m313/313\u001b[0m \u001b[32m━━━━━━━━━━━━━━━━━━━━\u001b[0m\u001b[37m\u001b[0m \u001b[1m0s\u001b[0m 1ms/step - accuracy: 0.3428 - loss: 47.3369\n",
      "JSMA Attack - Success Rate: 60.85000038146973 %\n"
     ]
    }
   ],
   "source": [
    "#-------------------- PGD Attack -------------------\n",
    "epsilon = 0.06\n",
    "alpha = 0.02\n",
    "num_iter = 200\n",
    "\n",
    "x_test_pgd = pgd_attack(distilled_model, x_test, y_test, epsilon, alpha, num_iter)\n",
    "_, adv_testing_accuracy = distilled_model.evaluate(x_test_pgd, y_test)\n",
    "print(f'Adversarial Testing Accuracy: {adv_testing_accuracy}')\n",
    "\n",
    "y_pred_adv_subset = np.argmax(distilled_model.predict(x_test_pgd), axis=1)\n",
    "success_rate_PGD = (np.mean(y_pred_adv_subset != np.argmax(y_test, axis=1)))*100\n",
    "print(\"Success rate of the PGD attack on the subset:\", success_rate_PGD)\n",
    "\n",
    "#-------------------- BIM Attack  -------------------\n",
    "\n",
    "epsilon = 0.06  \n",
    "epsilon_iter = 0.05  \n",
    "num_steps = 20  \n",
    "x_test_adv = bim_attack(distilled_model, x_test, y_test, epsilon, epsilon_iter, num_steps)\n",
    "\n",
    "_, adv_testing_accuracy = distilled_model.evaluate(x_test_adv, y_test)\n",
    "print(f'Adversarial Testing Accuracy: {adv_testing_accuracy}')\n",
    "\n",
    "y_pred_adv_subset = np.argmax(distilled_model.predict(x_test_adv), axis=1)\n",
    "success_rate_BIM = (np.mean(y_pred_adv_subset != np.argmax(y_test, axis=1))) *100\n",
    "print(\"Success rate of the FGSM attack on the subset:\", success_rate_BIM)\n",
    "\n",
    "#--------------------- C & W Attack -------------------\n",
    "\n",
    "target_class = 0  # Target class for misclassification\n",
    "x_adv = cw_attack(distilled_model, x_test, y_test, target_class)\n",
    "\n",
    "# Evaluate the adversarially attacked model\n",
    "_, adv_testing_accuracy = distilled_model.evaluate(x_adv, y_test)\n",
    "print(f'Adversarial Testing Accuracy: {adv_testing_accuracy}')\n",
    "\n",
    "# Evaluate the success rate of the attack on the subset\n",
    "y_pred_adv_subset = np.argmax(distilled_model.predict(x_adv), axis=1)\n",
    "success_rate_CW = (np.mean(y_pred_adv_subset != np.argmax(y_test, axis=1)))*100\n",
    "print(\"Success rate of the FGSM attack on the subset:\", success_rate_CW)\n",
    "\n",
    "#--------------------- JSMA Attack  -------------------\n",
    "\n",
    "# JSMA attack parameters\n",
    "epsilon_jsma = 0.5\n",
    "num_iterations_jsma = 150\n",
    "theta_jsma = 0.5\n",
    "\n",
    "# Generate adversarial examples for the full test data\n",
    "x_adv_jsma_all = jsma_attack(model, x_test, y_test, epsilon=epsilon_jsma, num_iterations=num_iterations_jsma, theta=theta_jsma)\n",
    "\n",
    "# Evaluate the model on the adversarial examples\n",
    "adv_loss_jsma, adv_acc_jsma = model.evaluate(x_adv_jsma_all, y_test)\n",
    "\n",
    "# Calculate the success rate of the attack\n",
    "success_rate_jsma = (1 - adv_acc_jsma) * 100  # Misclassification rate\n",
    "print(\"JSMA Attack - Success Rate:\", success_rate_jsma, \"%\")\n"
   ]
  },
  {
   "cell_type": "code",
   "execution_count": 10,
   "metadata": {},
   "outputs": [
    {
     "data": {
      "image/png": "[encoded data removed]",
      "text/plain": [
       "<Figure size 1000x600 with 1 Axes>"
      ]
     },
     "metadata": {},
     "output_type": "display_data"
    }
   ],
   "source": [
    "import matplotlib.pyplot as plt\n",
    "\n",
    "# Success rates of the attacks\n",
    "success_rates = [success_rate_PGD, success_rate_BIM, success_rate_CW, success_rate_jsma]\n",
    "\n",
    "# Attack labels\n",
    "attacks = ['PGD', 'BIM', 'C&W', 'JSMA']\n",
    "\n",
    "# Plotting the bar graph\n",
    "plt.figure(figsize=(10, 6))\n",
    "plt.bar(attacks, success_rates, color=['blue', 'green', 'orange', 'red'])\n",
    "\n",
    "# Adding labels and title\n",
    "plt.xlabel('Attack Type')\n",
    "plt.ylabel('Success Rate')\n",
    "plt.title('Success Rate of Adversarial Attacks After defensive Distillation')\n",
    "\n",
    "# Displaying the plot\n",
    "plt.show()"
   ]
  }
 ],
 "metadata": {
  "kernelspec": {
   "display_name": "Python 3",
   "language": "python",
   "name": "python3"
  },
  "language_info": {
   "codemirror_mode": {
    "name": "ipython",
    "version": 3
   },
   "file_extension": ".py",
   "mimetype": "text/x-python",
   "name": "python",
   "nbconvert_exporter": "python",
   "pygments_lexer": "ipython3",
   "version": "3.9.10"
  }
 },
 "nbformat": 4,
 "nbformat_minor": 2
}
