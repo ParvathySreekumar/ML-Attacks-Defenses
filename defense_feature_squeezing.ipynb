{
 "cells": [
  {
   "cell_type": "code",
   "execution_count": 17,
   "metadata": {},
   "outputs": [],
   "source": [
    "import nbimporter\n",
    "from nbimporter import NotebookLoader\n",
    "\n",
    "path = 'C:\\\\Users\\\\parva\\\\Desktop\\\\mldlnew\\\\training_MNIST.ipynb'\n",
    "loader = NotebookLoader(path)\n",
    "loader.load_module('training_MNIST')\n",
    "from training_MNIST import *\n"
   ]
  },
  {
   "cell_type": "code",
   "execution_count": 18,
   "metadata": {},
   "outputs": [],
   "source": [
    "# Importing all the libraries\n",
    "\n",
    "import tensorflow as tf\n",
    "from tensorflow.keras.models import Sequential\n",
    "from tensorflow.keras.layers import Dense, Flatten\n",
    "from tensorflow.keras.datasets import mnist\n",
    "from tensorflow.keras.utils import to_categorical\n",
    "from tensorflow.keras.layers import BatchNormalization\n",
    "import os\n",
    "import struct\n",
    "import numpy as np\n",
    "import training_MNIST"
   ]
  },
  {
   "cell_type": "code",
   "execution_count": 19,
   "metadata": {},
   "outputs": [],
   "source": [
    "# Function to load MNIST data from ubyte files\n",
    "def load_mnist(path, kind='train'):\n",
    "    labels_path = os.path.join(path, f'{kind}-labels-idx1-ubyte')\n",
    "    images_path = os.path.join(path, f'{kind}-images-idx3-ubyte')\n",
    "    with open(labels_path, 'rb') as lbpath:\n",
    "        magic, n = struct.unpack('>II', lbpath.read(8))\n",
    "        labels = np.fromfile(lbpath, dtype=np.uint8)\n",
    "    with open(images_path, 'rb') as imgpath:\n",
    "        magic, num, rows, cols = struct.unpack('>IIII', imgpath.read(16))\n",
    "        images = np.fromfile(imgpath, dtype=np.uint8).reshape(len(labels), 28, 28)\n",
    "    return images, labels\n",
    "\n",
    "# Load and preprocess the dataset\n",
    "path = 'C:\\\\Users\\\\parva\\\\Desktop\\\\mldlnew\\\\MNIST'\n",
    "x_train, y_train = load_mnist(path, kind='train')\n",
    "x_test, y_test = load_mnist(path, kind='t10k')\n",
    "x_train, x_test = x_train / 255.0, x_test / 255.0\n",
    "y_train = to_categorical(y_train)\n",
    "y_test = to_categorical(y_test)"
   ]
  },
  {
   "cell_type": "code",
   "execution_count": 20,
   "metadata": {},
   "outputs": [],
   "source": [
    "# Build the DNN model\n",
    "model = Sequential([\n",
    "    Flatten(input_shape=(28, 28)),\n",
    "    Dense(256, activation='relu'),  # Increased to 256 neurons\n",
    "    BatchNormalization(),  # Add batch normalization\n",
    "    Dense(10, activation='softmax')\n",
    "])\n",
    "\n",
    "# Compile the model\n",
    "model.compile(optimizer='adam',\n",
    "              loss='categorical_crossentropy',\n",
    "              metrics=['accuracy'])"
   ]
  },
  {
   "cell_type": "code",
   "execution_count": 21,
   "metadata": {},
   "outputs": [
    {
     "name": "stdout",
     "output_type": "stream",
     "text": [
      "Epoch 1/5\n",
      "\u001b[1m1875/1875\u001b[0m \u001b[32m━━━━━━━━━━━━━━━━━━━━\u001b[0m\u001b[37m\u001b[0m \u001b[1m20s\u001b[0m 9ms/step - accuracy: 0.8993 - loss: 0.3343 - val_accuracy: 0.9677 - val_loss: 0.1080\n",
      "Epoch 2/5\n",
      "\u001b[1m1875/1875\u001b[0m \u001b[32m━━━━━━━━━━━━━━━━━━━━\u001b[0m\u001b[37m\u001b[0m \u001b[1m36s\u001b[0m 19ms/step - accuracy: 0.9680 - loss: 0.1062 - val_accuracy: 0.9726 - val_loss: 0.0870\n",
      "Epoch 3/5\n",
      "\u001b[1m1875/1875\u001b[0m \u001b[32m━━━━━━━━━━━━━━━━━━━━\u001b[0m\u001b[37m\u001b[0m \u001b[1m15s\u001b[0m 8ms/step - accuracy: 0.9763 - loss: 0.0780 - val_accuracy: 0.9744 - val_loss: 0.0838\n",
      "Epoch 4/5\n",
      "\u001b[1m1875/1875\u001b[0m \u001b[32m━━━━━━━━━━━━━━━━━━━━\u001b[0m\u001b[37m\u001b[0m \u001b[1m13s\u001b[0m 7ms/step - accuracy: 0.9803 - loss: 0.0628 - val_accuracy: 0.9763 - val_loss: 0.0818\n",
      "Epoch 5/5\n",
      "\u001b[1m1875/1875\u001b[0m \u001b[32m━━━━━━━━━━━━━━━━━━━━\u001b[0m\u001b[37m\u001b[0m \u001b[1m14s\u001b[0m 8ms/step - accuracy: 0.9853 - loss: 0.0480 - val_accuracy: 0.9741 - val_loss: 0.0839\n",
      "\u001b[1m1875/1875\u001b[0m \u001b[32m━━━━━━━━━━━━━━━━━━━━\u001b[0m\u001b[37m\u001b[0m \u001b[1m6s\u001b[0m 3ms/step - accuracy: 0.9892 - loss: 0.0346\n",
      "Training Accuracy: 0.9892666935920715\n",
      "\u001b[1m313/313\u001b[0m \u001b[32m━━━━━━━━━━━━━━━━━━━━\u001b[0m\u001b[37m\u001b[0m \u001b[1m1s\u001b[0m 4ms/step - accuracy: 0.9688 - loss: 0.1033\n",
      "Testing Accuracy: 0.9740999937057495\n"
     ]
    }
   ],
   "source": [
    "import matplotlib.pyplot as plt\n",
    "\n",
    "# Train the model and store the training history\n",
    "history = model.fit(x_train, y_train, epochs=5, batch_size=32, validation_data=(x_test, y_test))\n",
    "\n",
    "# Evaluate the model on the training data\n",
    "_, training_accuracy = model.evaluate(x_train, y_train)\n",
    "print(f'Training Accuracy: {training_accuracy}')\n",
    "\n",
    "# Evaluate the model on the testing data\n",
    "_, testing_accuracy = model.evaluate(x_test, y_test)\n",
    "print(f'Testing Accuracy: {testing_accuracy}')"
   ]
  },
  {
   "cell_type": "code",
   "execution_count": 22,
   "metadata": {},
   "outputs": [
    {
     "name": "stdout",
     "output_type": "stream",
     "text": [
      "\u001b[1m313/313\u001b[0m \u001b[32m━━━━━━━━━━━━━━━━━━━━\u001b[0m\u001b[37m\u001b[0m \u001b[1m1s\u001b[0m 3ms/step - accuracy: 0.2681 - loss: 3.5252\n",
      "Adversarial Testing Accuracy: 0.3176000118255615\n",
      "\u001b[1m313/313\u001b[0m \u001b[32m━━━━━━━━━━━━━━━━━━━━\u001b[0m\u001b[37m\u001b[0m \u001b[1m1s\u001b[0m 3ms/step\n",
      "Success rate of the PGD attack on the subset: 0.6824\n",
      "\u001b[1m313/313\u001b[0m \u001b[32m━━━━━━━━━━━━━━━━━━━━\u001b[0m\u001b[37m\u001b[0m \u001b[1m1s\u001b[0m 3ms/step - accuracy: 0.2830 - loss: 3.3543\n",
      "Adversarial Testing Accuracy: 0.33329999446868896\n",
      "\u001b[1m313/313\u001b[0m \u001b[32m━━━━━━━━━━━━━━━━━━━━\u001b[0m\u001b[37m\u001b[0m \u001b[1m1s\u001b[0m 3ms/step\n",
      "Success rate of the FGSM attack on the subset: 0.6667\n",
      "\u001b[1m313/313\u001b[0m \u001b[32m━━━━━━━━━━━━━━━━━━━━\u001b[0m\u001b[37m\u001b[0m \u001b[1m1s\u001b[0m 3ms/step - accuracy: 0.3197 - loss: 5.1331\n",
      "Adversarial Testing Accuracy: 0.36980000138282776\n",
      "\u001b[1m313/313\u001b[0m \u001b[32m━━━━━━━━━━━━━━━━━━━━\u001b[0m\u001b[37m\u001b[0m \u001b[1m1s\u001b[0m 3ms/step\n",
      "Success rate of the FGSM attack on the subset: 0.6302\n",
      "\u001b[1m313/313\u001b[0m \u001b[32m━━━━━━━━━━━━━━━━━━━━\u001b[0m\u001b[37m\u001b[0m \u001b[1m1s\u001b[0m 3ms/step - accuracy: 0.3290 - loss: 39.9307\n",
      "JSMA Attack - Success Rate: 61.59999966621399 %\n"
     ]
    }
   ],
   "source": [
    "#-------------------- PGD Attack -------------------\n",
    "epsilon = 0.06\n",
    "alpha = 0.02\n",
    "num_iter = 200\n",
    "\n",
    "x_test_pgd = pgd_attack(model, x_test, y_test, epsilon, alpha, num_iter)\n",
    "_, adv_testing_accuracy = model.evaluate(x_test_pgd, y_test)\n",
    "print(f'Adversarial Testing Accuracy: {adv_testing_accuracy}')\n",
    "\n",
    "y_pred_adv_subset = np.argmax(model.predict(x_test_pgd), axis=1)\n",
    "success_rate_subset = np.mean(y_pred_adv_subset != np.argmax(y_test, axis=1))\n",
    "print(\"Success rate of the PGD attack on the subset:\", success_rate_subset)\n",
    "\n",
    "#-------------------- BIM Attack  -------------------\n",
    "\n",
    "epsilon = 0.06  \n",
    "epsilon_iter = 0.05  \n",
    "num_steps = 20  \n",
    "x_test_adv = bim_attack(model, x_test, y_test, epsilon, epsilon_iter, num_steps)\n",
    "\n",
    "_, adv_testing_accuracy = model.evaluate(x_test_adv, y_test)\n",
    "print(f'Adversarial Testing Accuracy: {adv_testing_accuracy}')\n",
    "\n",
    "y_pred_adv_subset = np.argmax(model.predict(x_test_adv), axis=1)\n",
    "success_rate_subset = np.mean(y_pred_adv_subset != np.argmax(y_test, axis=1))\n",
    "print(\"Success rate of the FGSM attack on the subset:\", success_rate_subset)\n",
    "\n",
    "#--------------------- C & W Attack -------------------\n",
    "\n",
    "target_class = 0  # Target class for misclassification\n",
    "x_adv = cw_attack(model, x_test, y_test, target_class)\n",
    "\n",
    "# Evaluate the adversarially attacked model\n",
    "_, adv_testing_accuracy = model.evaluate(x_adv, y_test)\n",
    "print(f'Adversarial Testing Accuracy: {adv_testing_accuracy}')\n",
    "\n",
    "# Evaluate the success rate of the attack on the subset\n",
    "y_pred_adv_subset = np.argmax(model.predict(x_adv), axis=1)\n",
    "success_rate_subset = np.mean(y_pred_adv_subset != np.argmax(y_test, axis=1))\n",
    "print(\"Success rate of the FGSM attack on the subset:\", success_rate_subset)\n",
    "\n",
    "#--------------------- JSMA Attack  -------------------\n",
    "\n",
    "# JSMA attack parameters\n",
    "epsilon_jsma = 0.5\n",
    "num_iterations_jsma = 150\n",
    "theta_jsma = 0.5\n",
    "\n",
    "# Generate adversarial examples for the full test data\n",
    "x_adv_jsma_all = jsma_attack(model, x_test, y_test, epsilon=epsilon_jsma, num_iterations=num_iterations_jsma, theta=theta_jsma)\n",
    "\n",
    "# Evaluate the model on the adversarial examples\n",
    "adv_loss_jsma, adv_acc_jsma = model.evaluate(x_adv_jsma_all, y_test)\n",
    "\n",
    "# Calculate the success rate of the attack\n",
    "success_rate_jsma = (1 - adv_acc_jsma) * 100  # Misclassification rate\n",
    "print(\"JSMA Attack - Success Rate:\", success_rate_jsma, \"%\")\n"
   ]
  },
  {
   "cell_type": "code",
   "execution_count": 23,
   "metadata": {},
   "outputs": [
    {
     "name": "stdout",
     "output_type": "stream",
     "text": [
      "Epoch 1/5\n",
      "\u001b[1m1875/1875\u001b[0m \u001b[32m━━━━━━━━━━━━━━━━━━━━\u001b[0m\u001b[37m\u001b[0m \u001b[1m13s\u001b[0m 7ms/step - accuracy: 0.9825 - loss: 0.0534 - val_accuracy: 0.9770 - val_loss: 0.0786\n",
      "Epoch 2/5\n",
      "\u001b[1m1875/1875\u001b[0m \u001b[32m━━━━━━━━━━━━━━━━━━━━\u001b[0m\u001b[37m\u001b[0m \u001b[1m14s\u001b[0m 7ms/step - accuracy: 0.9876 - loss: 0.0378 - val_accuracy: 0.9761 - val_loss: 0.0803\n",
      "Epoch 3/5\n",
      "\u001b[1m1875/1875\u001b[0m \u001b[32m━━━━━━━━━━━━━━━━━━━━\u001b[0m\u001b[37m\u001b[0m \u001b[1m13s\u001b[0m 7ms/step - accuracy: 0.9893 - loss: 0.0320 - val_accuracy: 0.9775 - val_loss: 0.0851\n",
      "Epoch 4/5\n",
      "\u001b[1m1875/1875\u001b[0m \u001b[32m━━━━━━━━━━━━━━━━━━━━\u001b[0m\u001b[37m\u001b[0m \u001b[1m14s\u001b[0m 7ms/step - accuracy: 0.9909 - loss: 0.0267 - val_accuracy: 0.9768 - val_loss: 0.0890\n",
      "Epoch 5/5\n",
      "\u001b[1m1875/1875\u001b[0m \u001b[32m━━━━━━━━━━━━━━━━━━━━\u001b[0m\u001b[37m\u001b[0m \u001b[1m15s\u001b[0m 8ms/step - accuracy: 0.9911 - loss: 0.0259 - val_accuracy: 0.9777 - val_loss: 0.0846\n"
     ]
    },
    {
     "data": {
      "text/plain": [
       "<keras.src.callbacks.history.History at 0x18d1e9e1f10>"
      ]
     },
     "execution_count": 23,
     "metadata": {},
     "output_type": "execute_result"
    }
   ],
   "source": [
    "def feature_squeezing(x, bit_depth=1):\n",
    "    factor = 256 // (2 ** bit_depth)\n",
    "    return (x * 255 // factor * factor) / 255\n",
    "\n",
    "# Apply feature squeezing on the input data\n",
    "x_train_squeezed = feature_squeezing(x_train)\n",
    "x_test_squeezed = feature_squeezing(x_test)\n",
    "\n",
    "# Train model on squeezed data\n",
    "model.fit(x_train_squeezed, y_train, epochs=5, batch_size=32, validation_data=(x_test_squeezed, y_test))"
   ]
  },
  {
   "cell_type": "code",
   "execution_count": 26,
   "metadata": {},
   "outputs": [
    {
     "name": "stdout",
     "output_type": "stream",
     "text": [
      "\u001b[1m313/313\u001b[0m \u001b[32m━━━━━━━━━━━━━━━━━━━━\u001b[0m\u001b[37m\u001b[0m \u001b[1m0s\u001b[0m 1ms/step - accuracy: 0.3368 - loss: 5.8399\n",
      "Adversarial Testing Accuracy: 0.3752000033855438\n",
      "\u001b[1m313/313\u001b[0m \u001b[32m━━━━━━━━━━━━━━━━━━━━\u001b[0m\u001b[37m\u001b[0m \u001b[1m0s\u001b[0m 894us/step\n",
      "Success rate of the PGD attack on the subset: 62.480000000000004\n",
      "\u001b[1m313/313\u001b[0m \u001b[32m━━━━━━━━━━━━━━━━━━━━\u001b[0m\u001b[37m\u001b[0m \u001b[1m0s\u001b[0m 1ms/step - accuracy: 0.3627 - loss: 5.4376\n",
      "Adversarial Testing Accuracy: 0.40130001306533813\n",
      "\u001b[1m313/313\u001b[0m \u001b[32m━━━━━━━━━━━━━━━━━━━━\u001b[0m\u001b[37m\u001b[0m \u001b[1m0s\u001b[0m 820us/step\n",
      "Success rate of the BIM attack on the subset: 59.870000000000005\n",
      "\u001b[1m313/313\u001b[0m \u001b[32m━━━━━━━━━━━━━━━━━━━━\u001b[0m\u001b[37m\u001b[0m \u001b[1m0s\u001b[0m 1ms/step - accuracy: 0.8635 - loss: 2.6453\n",
      "Adversarial Testing Accuracy: 0.8823999762535095\n",
      "\u001b[1m313/313\u001b[0m \u001b[32m━━━━━━━━━━━━━━━━━━━━\u001b[0m\u001b[37m\u001b[0m \u001b[1m0s\u001b[0m 830us/step\n",
      "Success rate of the CW attack on the subset: 11.76\n",
      "\u001b[1m313/313\u001b[0m \u001b[32m━━━━━━━━━━━━━━━━━━━━\u001b[0m\u001b[37m\u001b[0m \u001b[1m0s\u001b[0m 1ms/step - accuracy: 0.8306 - loss: 27.3500\n",
      "JSMA Attack - Success Rate: 14.520001411437988 %\n"
     ]
    }
   ],
   "source": [
    "#-------------------- PGD Attack -------------------\n",
    "epsilon = 0.06\n",
    "alpha = 0.02\n",
    "num_iter = 200\n",
    "\n",
    "x_test_pgd = pgd_attack(model, x_test, y_test, epsilon, alpha, num_iter)\n",
    "_, adv_testing_accuracy = model.evaluate(x_test_pgd, y_test)\n",
    "print(f'Adversarial Testing Accuracy: {adv_testing_accuracy}')\n",
    "\n",
    "y_pred_adv_subset = np.argmax(model.predict(x_test_pgd), axis=1)\n",
    "success_rate_PGD = (np.mean(y_pred_adv_subset != np.argmax(y_test, axis=1))) * 100\n",
    "print(\"Success rate of the PGD attack on the subset:\", success_rate_PGD)\n",
    "\n",
    "#-------------------- BIM Attack  -------------------\n",
    "\n",
    "epsilon = 0.06 \n",
    "epsilon_iter = 0.05  \n",
    "num_steps = 20  \n",
    "x_test_adv = bim_attack(model, x_test, y_test, epsilon, epsilon_iter, num_steps)\n",
    "\n",
    "_, adv_testing_accuracy = model.evaluate(x_test_adv, y_test)\n",
    "print(f'Adversarial Testing Accuracy: {adv_testing_accuracy}')\n",
    "\n",
    "y_pred_adv_subset = np.argmax(model.predict(x_test_adv), axis=1)\n",
    "success_rate_BIM = (np.mean(y_pred_adv_subset != np.argmax(y_test, axis=1)))*100\n",
    "print(\"Success rate of the BIM attack on the subset:\", success_rate_BIM)\n",
    "\n",
    "#--------------------- C & W Attack -------------------\n",
    "\n",
    "target_class = 0  # Target class for misclassification\n",
    "x_adv = cw_attack(model, x_test, y_test, target_class)\n",
    "\n",
    "# Evaluate the adversarially attacked model\n",
    "_, adv_testing_accuracy = model.evaluate(x_adv, y_test)\n",
    "print(f'Adversarial Testing Accuracy: {adv_testing_accuracy}')\n",
    "\n",
    "# Evaluate the success rate of the attack on the subset\n",
    "y_pred_adv_subset = np.argmax(model.predict(x_adv), axis=1)\n",
    "success_rate_CW = (np.mean(y_pred_adv_subset != np.argmax(y_test, axis=1))) *100\n",
    "print(\"Success rate of the CW attack on the subset:\", success_rate_CW)\n",
    "\n",
    "#--------------------- JSMA Attack  -------------------\n",
    "\n",
    "# JSMA attack parameters\n",
    "epsilon_jsma = 0.5\n",
    "num_iterations_jsma = 150\n",
    "theta_jsma = 0.5\n",
    "\n",
    "# Generate adversarial examples for the full test data\n",
    "x_adv_jsma_all = jsma_attack(model, x_test, y_test, epsilon=epsilon_jsma, num_iterations=num_iterations_jsma, theta=theta_jsma)\n",
    "\n",
    "# Evaluate the model on the adversarial examples\n",
    "adv_loss_jsma, adv_acc_jsma = model.evaluate(x_adv_jsma_all, y_test)\n",
    "\n",
    "# Calculate the success rate of the attack\n",
    "success_rate_jsma = (1 - adv_acc_jsma) * 100  # Misclassification rate\n",
    "print(\"JSMA Attack - Success Rate:\", success_rate_jsma, \"%\")\n"
   ]
  },
  {
   "cell_type": "code",
   "execution_count": 27,
   "metadata": {},
   "outputs": [
    {
     "data": {
      "image/png": "[encoded data removed]",
      "text/plain": [
       "<Figure size 1000x600 with 1 Axes>"
      ]
     },
     "metadata": {},
     "output_type": "display_data"
    }
   ],
   "source": [
    "import matplotlib.pyplot as plt\n",
    "\n",
    "# Success rates of the attacks\n",
    "success_rates = [success_rate_PGD, success_rate_BIM, success_rate_CW, success_rate_jsma]\n",
    "\n",
    "# Attack labels\n",
    "attacks = ['PGD', 'BIM', 'C&W', 'JSMA']\n",
    "\n",
    "# Plotting the bar graph\n",
    "plt.figure(figsize=(10, 6))\n",
    "plt.bar(attacks, success_rates, color=['blue', 'green', 'orange', 'red'])\n",
    "\n",
    "# Adding labels and title\n",
    "plt.xlabel('Attack Type')\n",
    "plt.ylabel('Success Rate')\n",
    "plt.title('Success Rate of Adversarial Attacks After Feature Squeezing')\n",
    "\n",
    "# Displaying the plot\n",
    "plt.show()\n"
   ]
  }
 ],
 "metadata": {
  "kernelspec": {
   "display_name": "Python 3",
   "language": "python",
   "name": "python3"
  },
  "language_info": {
   "codemirror_mode": {
    "name": "ipython",
    "version": 3
   },
   "file_extension": ".py",
   "mimetype": "text/x-python",
   "name": "python",
   "nbconvert_exporter": "python",
   "pygments_lexer": "ipython3",
   "version": "3.9.10"
  }
 },
 "nbformat": 4,
 "nbformat_minor": 2
}
